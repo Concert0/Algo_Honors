{
 "cells": [
  {
   "cell_type": "markdown",
   "metadata": {},
   "source": [
    "# Honors problems"
   ]
  },
  {
   "cell_type": "markdown",
   "metadata": {},
   "source": [
    "***\n",
    "*Problem 114*:  Counting block combinations I"
   ]
  },
  {
   "cell_type": "code",
   "execution_count": 2,
   "metadata": {},
   "outputs": [
    {
     "name": "stdout",
     "output_type": "stream",
     "text": [
      "16475640049\n"
     ]
    }
   ],
   "source": [
    "m = 3\n",
    "n = 50\n",
    "ways = [0]*(n+1)\n",
    "ways[0] = ways[1] = ways[2] = 1\n",
    "for i in range(m, n+1):\n",
    "    Sum = 0\n",
    "    for j in range(0,i-m):\n",
    "        Sum += ways[j]\n",
    "    ways[i] = ways[i-1] + Sum + 1\n",
    "print(ways[n])"
   ]
  },
  {
   "cell_type": "markdown",
   "metadata": {},
   "source": [
    "The number of ways of filling a row of length 50 is **16475640049**"
   ]
  },
  {
   "cell_type": "markdown",
   "metadata": {},
   "source": [
    "***\n",
    "*Problem 115*: Counting block combinations II"
   ]
  },
  {
   "cell_type": "code",
   "execution_count": null,
   "metadata": {},
   "outputs": [],
   "source": []
  }
 ],
 "metadata": {
  "kernelspec": {
   "display_name": "Python 3",
   "language": "python",
   "name": "python3"
  },
  "language_info": {
   "codemirror_mode": {
    "name": "ipython",
    "version": 3
   },
   "file_extension": ".py",
   "mimetype": "text/x-python",
   "name": "python",
   "nbconvert_exporter": "python",
   "pygments_lexer": "ipython3",
   "version": "3.6.4"
  }
 },
 "nbformat": 4,
 "nbformat_minor": 2
}
